{
  "cells": [
    {
      "cell_type": "markdown",
      "id": "6d8086c5",
      "metadata": {
        "id": "6d8086c5"
      },
      "source": [
        "# Flight Safety Checker"
      ]
    },
    {
      "cell_type": "markdown",
      "id": "85b8aef7",
      "metadata": {
        "id": "85b8aef7"
      },
      "source": [
        "Given 2 variables, `altitude` (ft) and `airspeed` (knots)\n",
        "\n",
        "### 1. Write a program that categorises entries into 'safe flying' and 'unsafe flying' based on the following criteria:\n",
        "   - An `altitude` below 100ft or above 50000ft is considered unsafe flying\n",
        "   - An `airspeed` below 60 knots or above 500 knots is considered unsafe flying\n",
        "   - If `altitude` and `airspeed` are outside these ranges, the flight is considered as safe\n",
        "   \n",
        "*CLUE: You will have to figure out the syntax for using `and`/`or` keywords in `if` statements*\n",
        "\n",
        "<p style=\"font-size: 14px; color: #999999; margin-top: 0px; margin-bottom: 0px;\">This practical doesn't have a marking system because there are many ways to tackle this issue</p>"
      ]
    },
    {
      "cell_type": "code",
      "execution_count": 1,
      "id": "ad3c42c9",
      "metadata": {
        "id": "ad3c42c9",
        "outputId": "6e84243a-9126-47d2-8cbf-1b1442c3987c",
        "colab": {
          "base_uri": "https://localhost:8080/"
        }
      },
      "outputs": [
        {
          "output_type": "stream",
          "name": "stdout",
          "text": [
            "Enter altitude (in feet): 1000\n",
            "Enter airspeed (in knots): 500\n",
            "The flight is categorized as: Safe flying\n"
          ]
        }
      ],
      "source": [
        "# TODO - Create a variable called altitude and set it to a value in ft\n",
        "# TODO - Create a variable called airspeed and set it to a value in knots\n",
        "\n",
        "# TODO - Create the if/else statement to check if the altitude is within the safe range\n",
        "\n",
        "def categorize_flight(altitude, airspeed):\n",
        "    if altitude < 100 or altitude > 50000 or airspeed < 60 or airspeed > 500:\n",
        "        return \"Unsafe flying\"\n",
        "    else:\n",
        "        return \"Safe flying\"\n",
        "\n",
        "altitude_input = float(input(\"Enter altitude (in feet): \"))\n",
        "airspeed_input = float(input(\"Enter airspeed (in knots): \"))\n",
        "\n",
        "result = categorize_flight(altitude_input, airspeed_input)\n",
        "print(f\"The flight is categorized as: {result}\")"
      ]
    },
    {
      "cell_type": "markdown",
      "id": "a42d9e5f",
      "metadata": {
        "id": "a42d9e5f"
      },
      "source": [
        "### 2. Try to write this as cleanly as possible and test your code with the following by substituting in again:\n",
        "\n",
        "- Altitude: 25000ft, Airspeed: 300 knots\n",
        "- Altitude: 50001ft, Airspeed: 250 knots\n",
        "- Altitude: 90ft, Airspeed: 125 knots"
      ]
    },
    {
      "cell_type": "code",
      "execution_count": 3,
      "id": "30ef543d",
      "metadata": {
        "id": "30ef543d",
        "outputId": "875f27e4-b2fb-4ab7-e6c4-63c5a21a4769",
        "colab": {
          "base_uri": "https://localhost:8080/"
        }
      },
      "outputs": [
        {
          "output_type": "stream",
          "name": "stdout",
          "text": [
            "Altitude: 25000ft, Airspeed: 300 knots - Safe flying\n",
            "Altitude: 50001ft, Airspeed: 250 knots - Unsafe flying\n",
            "Altitude: 90ft, Airspeed: 125 knots - Unsafe flying\n"
          ]
        }
      ],
      "source": [
        "def categorize_flight(altitude, airspeed):\n",
        "    unsafe_altitude = altitude < 100 or altitude > 50000\n",
        "    unsafe_airspeed = airspeed < 60 or airspeed > 500\n",
        "\n",
        "    if unsafe_altitude or unsafe_airspeed:\n",
        "        return \"Unsafe flying\"\n",
        "    else:\n",
        "        return \"Safe flying\"\n",
        "\n",
        "test_cases = [\n",
        "    {\"altitude\": 25000, \"airspeed\": 300},\n",
        "    {\"altitude\": 50001, \"airspeed\": 250},\n",
        "    {\"altitude\": 90, \"airspeed\": 125}\n",
        "]\n",
        "\n",
        "for test_case in test_cases:\n",
        "    result = categorize_flight(test_case[\"altitude\"], test_case[\"airspeed\"])\n",
        "    print(f\"Altitude: {test_case['altitude']}ft, Airspeed: {test_case['airspeed']} knots - {result}\")"
      ]
    }
  ],
  "metadata": {
    "kernelspec": {
      "display_name": "content-projects_new",
      "language": "python",
      "name": "python3"
    },
    "language_info": {
      "codemirror_mode": {
        "name": "ipython",
        "version": 3
      },
      "file_extension": ".py",
      "mimetype": "text/x-python",
      "name": "python",
      "nbconvert_exporter": "python",
      "pygments_lexer": "ipython3",
      "version": "3.10.8"
    },
    "vscode": {
      "interpreter": {
        "hash": "4b961f8166aad6ccb4cf65d0f9c742ef9c6c23ffe83ad932438cd83ed96aebaf"
      }
    },
    "colab": {
      "provenance": []
    }
  },
  "nbformat": 4,
  "nbformat_minor": 5
}