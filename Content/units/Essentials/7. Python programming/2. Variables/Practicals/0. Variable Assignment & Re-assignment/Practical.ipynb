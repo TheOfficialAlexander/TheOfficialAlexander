{
  "cells": [
    {
      "cell_type": "markdown",
      "metadata": {
        "id": "PJV6p8FOVzpa"
      },
      "source": [
        "# Variable Naming"
      ]
    },
    {
      "cell_type": "code",
      "execution_count": 1,
      "metadata": {
        "colab": {
          "base_uri": "https://localhost:8080/"
        },
        "id": "48d41143",
        "outputId": "140ee7af-9614-4a3f-a44c-18ce83389850"
      },
      "outputs": [
        {
          "output_type": "stream",
          "name": "stdout",
          "text": [
            "Downloading the marking system\n"
          ]
        }
      ],
      "source": [
        "#@title ### Run the following cell to download the necessary files for this practical { display-mode: \"form\" }\n",
        "#@markdown Don't worry about what's in this collapsed cell\n",
        "\n",
        "print('Downloading the marking system')\n",
        "!wget https://s3-eu-west-1.amazonaws.com/aicore-portal-public-prod-307050600709/practical_files/b1b01aef-88ef-4bf8-ab08-d5aa28b9e954/marking_system.py -q -O marking_system.py\n",
        "import marking_system\n",
        "import importlib\n",
        "importlib.reload(marking_system)\n",
        "import sys\n",
        "ipython = get_ipython()\n",
        "def hide_traceback(exc_tuple=None, filename=None, tb_offset=None, exception_only=False, running_compiled_code=False):\n",
        "    etype, value, tb = sys.exc_info()\n",
        "    value.__cause__ = None  # suppress chained exceptions\n",
        "    return ipython._showtraceback(etype, \"❌ \" + f\"\u001b[91m{value}\", ipython.InteractiveTB.get_exception_only(etype, \"❌ \" + f\"\u001b[91m{value}\"))\n",
        "ipython.showtraceback = hide_traceback\n"
      ]
    },
    {
      "cell_type": "markdown",
      "metadata": {
        "id": "CjdfaWjQVzpe"
      },
      "source": [
        "### 1: Define a variable called `my_variable` and assign it the value `23`"
      ]
    },
    {
      "cell_type": "code",
      "execution_count": 7,
      "metadata": {
        "id": "E33qX5KsVzpf"
      },
      "outputs": [],
      "source": [
        "# TODO: Create a variable named my_variable and set it equal to 23\n",
        "my_variable = 23"
      ]
    },
    {
      "cell_type": "code",
      "execution_count": 8,
      "metadata": {
        "colab": {
          "base_uri": "https://localhost:8080/"
        },
        "id": "p5aS9-A0Vzpf",
        "outputId": "192b0eab-d362-48c1-b5f6-e4f6046e6f2b"
      },
      "outputs": [
        {
          "output_type": "stream",
          "name": "stdout",
          "text": [
            "\u001b[92m✔ Well done!\n"
          ]
        }
      ],
      "source": [
        "#@title #### Run this cell to check your solution { display-mode: \"form\", run: \"auto\" }\n",
        "\n",
        "assert \"my_variable\" in globals(), \"You haven't defined the variable 'my_variable'.\"\n",
        "\n",
        "marking_system.check_step_1(my_variable)\n"
      ]
    },
    {
      "cell_type": "markdown",
      "metadata": {
        "id": "wCJP26bfVzpf"
      },
      "source": [
        "### 2. Print the value of `my_variable`"
      ]
    },
    {
      "cell_type": "code",
      "execution_count": 9,
      "metadata": {
        "colab": {
          "base_uri": "https://localhost:8080/"
        },
        "id": "fONNucwYVzpf",
        "outputId": "d15d02ec-47f9-4055-b699-dc4f71c76ddf"
      },
      "outputs": [
        {
          "output_type": "stream",
          "name": "stdout",
          "text": [
            "23\n"
          ]
        }
      ],
      "source": [
        "# TODO: Print the value of my_variable using the print function\n",
        "print(my_variable)"
      ]
    },
    {
      "cell_type": "code",
      "execution_count": 10,
      "metadata": {
        "colab": {
          "base_uri": "https://localhost:8080/"
        },
        "id": "1V6FxNPAVzpg",
        "outputId": "0f1d394d-821f-4b22-8b25-98364dc0c5c0"
      },
      "outputs": [
        {
          "output_type": "stream",
          "name": "stdout",
          "text": [
            "\u001b[92m✔ Well done!\n"
          ]
        }
      ],
      "source": [
        "#@title #### Copy and paste your line of code in this form to check your solution { display-mode: \"form\", run: \"auto\" }\n",
        "\n",
        "your_code = \"print(my_variable)\" #@param {type:\"string\"}\n",
        "marking_system.check_step_2(your_code=your_code)\n"
      ]
    },
    {
      "cell_type": "markdown",
      "metadata": {
        "id": "16R6RFx5Vzpg"
      },
      "source": [
        "### 3. Write a new line of code that reassigns `my_variable` to have the value `98`"
      ]
    },
    {
      "cell_type": "code",
      "execution_count": 11,
      "metadata": {
        "id": "uLu2QxSDVzpg"
      },
      "outputs": [],
      "source": [
        "# TODO: Create a variable named my_variable and set it equal to 98\n",
        "my_variable = 98"
      ]
    },
    {
      "cell_type": "code",
      "execution_count": 12,
      "metadata": {
        "colab": {
          "base_uri": "https://localhost:8080/"
        },
        "id": "1kKpqpqIVzpg",
        "outputId": "aa2c8cff-7011-4e0e-e966-57de2ed137b1"
      },
      "outputs": [
        {
          "output_type": "stream",
          "name": "stdout",
          "text": [
            "\u001b[92m✔ Well done!\n"
          ]
        }
      ],
      "source": [
        "#@title #### Run this cell to check your solution { display-mode: \"form\", run: \"auto\" }\n",
        "\n",
        "assert \"my_variable\" in globals(), \"You haven't defined the variable 'my_variable'.\"\n",
        "\n",
        "marking_system.check_step_3(my_variable)\n"
      ]
    },
    {
      "cell_type": "markdown",
      "metadata": {
        "id": "8ZEaFZntVzph"
      },
      "source": [
        "### 4. Print the value of `my_variable` again\n",
        "\n",
        "_Notice that the value of `my_variable` has changed._"
      ]
    },
    {
      "cell_type": "code",
      "execution_count": 13,
      "metadata": {
        "colab": {
          "base_uri": "https://localhost:8080/"
        },
        "id": "J_aT0WDnVzph",
        "outputId": "97d2e64d-d587-43ec-85cd-6ce19cdbfa79"
      },
      "outputs": [
        {
          "output_type": "stream",
          "name": "stdout",
          "text": [
            "98\n"
          ]
        }
      ],
      "source": [
        "# TODO: Print the value of my_variable using the print function\n",
        "print(my_variable)"
      ]
    },
    {
      "cell_type": "code",
      "execution_count": 14,
      "metadata": {
        "colab": {
          "base_uri": "https://localhost:8080/"
        },
        "id": "YC7xvVg_Vzph",
        "outputId": "aa14aaf7-f5f2-448b-cd5f-051749b83b21"
      },
      "outputs": [
        {
          "output_type": "stream",
          "name": "stdout",
          "text": [
            "\u001b[92m✔ Well done!\n"
          ]
        }
      ],
      "source": [
        "#@title Copy and paste your line of code in this form to check your solution { display-mode: \"form\", run: \"auto\" }\n",
        "\n",
        "your_code = \"print(my_variable)\" #@param {type:\"string\"}\n",
        "marking_system.check_step_4(your_code=your_code)\n"
      ]
    }
  ],
  "metadata": {
    "kernelspec": {
      "display_name": "content-projects_new",
      "language": "python",
      "name": "python3"
    },
    "language_info": {
      "name": "python",
      "version": "3.10.8"
    },
    "vscode": {
      "interpreter": {
        "hash": "4b961f8166aad6ccb4cf65d0f9c742ef9c6c23ffe83ad932438cd83ed96aebaf"
      }
    },
    "colab": {
      "provenance": []
    }
  },
  "nbformat": 4,
  "nbformat_minor": 0
}