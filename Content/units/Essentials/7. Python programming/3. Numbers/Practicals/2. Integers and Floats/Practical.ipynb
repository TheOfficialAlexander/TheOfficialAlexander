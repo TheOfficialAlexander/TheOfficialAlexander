{
  "cells": [
    {
      "cell_type": "markdown",
      "metadata": {
        "id": "XQgTDh9TdXi3"
      },
      "source": [
        "# Integers and Floats"
      ]
    },
    {
      "cell_type": "code",
      "execution_count": 1,
      "metadata": {
        "id": "b99b1253",
        "outputId": "185883f4-5e68-430b-a859-cfc417fe06f3",
        "colab": {
          "base_uri": "https://localhost:8080/"
        }
      },
      "outputs": [
        {
          "output_type": "stream",
          "name": "stdout",
          "text": [
            "Downloading the marking system\n"
          ]
        }
      ],
      "source": [
        "#@title ### Run the following cell to download the necessary files for this practical { display-mode: \"form\" }\n",
        "#@markdown Don't worry about what's in this collapsed cell\n",
        "\n",
        "print('Downloading the marking system')\n",
        "!wget https://s3-eu-west-1.amazonaws.com/aicore-portal-public-prod-307050600709/practical_files/cc9d26e3-cb43-4db4-be73-222e33e2ab3f/marking_system.py -q -O marking_system.py\n",
        "import marking_system\n",
        "import importlib\n",
        "importlib.reload(marking_system)\n",
        "import sys\n",
        "ipython = get_ipython()\n",
        "def hide_traceback(exc_tuple=None, filename=None, tb_offset=None, exception_only=False, running_compiled_code=False):\n",
        "    etype, value, tb = sys.exc_info()\n",
        "    value.__cause__ = None  # suppress chained exceptions\n",
        "    return ipython._showtraceback(etype, \"❌ \" + f\"\u001b[91m{value}\", ipython.InteractiveTB.get_exception_only(etype, \"❌ \" + f\"\u001b[91m{value}\"))\n",
        "ipython.showtraceback = hide_traceback\n"
      ]
    },
    {
      "cell_type": "markdown",
      "metadata": {
        "id": "NXH8H2MHdXi8"
      },
      "source": [
        "### 1. Define two variables, `a` and `b` and assign them the values `5` and `2` respectively."
      ]
    },
    {
      "cell_type": "code",
      "execution_count": 2,
      "metadata": {
        "id": "2La7yFhddXi9"
      },
      "outputs": [],
      "source": [
        "# TODO: Create a variable called 'a' and assign it the value of 5.\n",
        "# TODO: Create a variable called 'b' and assign it the value of 2.\n",
        "a = 5\n",
        "b = 2"
      ]
    },
    {
      "cell_type": "code",
      "execution_count": 3,
      "metadata": {
        "id": "uJcD84tBdXi9",
        "outputId": "0def649d-7517-4baf-f3af-e44d077ce266",
        "colab": {
          "base_uri": "https://localhost:8080/"
        }
      },
      "outputs": [
        {
          "metadata": {
            "tags": null
          },
          "name": "stdout",
          "output_type": "stream",
          "text": [
            "\u001b[92m✔ Well done! You have successfully assigned values to the variables 'a' and 'b'.\n"
          ]
        }
      ],
      "source": [
        "#@title #### Run this cell to check your solution { display-mode: \"form\", run: \"auto\" }\n",
        "\n",
        "assert \"a\" in globals(), \"You haven't defined the variable 'a'.\"\n",
        "assert \"b\" in globals(), \"You haven't defined the variable 'b'.\"\n",
        "marking_system.check_step_1(a=a, b=b)\n"
      ]
    },
    {
      "cell_type": "markdown",
      "metadata": {
        "id": "ISv6m6TAdXi9"
      },
      "source": [
        "### 2. What is the type of `a` and `b`?"
      ]
    },
    {
      "cell_type": "code",
      "execution_count": 4,
      "metadata": {
        "id": "hV4qhkDZdXi-",
        "outputId": "0b429ae4-f0fa-4c30-fa52-b0916629eac4",
        "colab": {
          "base_uri": "https://localhost:8080/"
        }
      },
      "outputs": [
        {
          "output_type": "stream",
          "name": "stdout",
          "text": [
            "<class 'int'>\n",
            "<class 'int'>\n"
          ]
        }
      ],
      "source": [
        "# TODO: Print the type of 'a'.\n",
        "# TODO: Print the type of 'b'.\n",
        "print(type(a))\n",
        "print(type(b))"
      ]
    },
    {
      "cell_type": "code",
      "execution_count": 5,
      "metadata": {
        "id": "f5QTe0AFdXi-",
        "outputId": "ee3598f1-dd59-4dd0-aa38-2ba7e60f69c2",
        "colab": {
          "base_uri": "https://localhost:8080/"
        }
      },
      "outputs": [
        {
          "output_type": "stream",
          "name": "stdout",
          "text": [
            "\u001b[92m✔ Well done! Your answer is correct.\n"
          ]
        }
      ],
      "source": [
        "#@title #### Enter your solution here { display-mode: \"form\", run: \"auto\" }\n",
        "\n",
        "#@markdown What is the type of 'a'?\n",
        "a_type = \"int\" #@param [\"int\", \"str\", \"float\"] {allow-input: true}\n",
        "#@markdown What is the type of 'b'?\n",
        "b_type = \"int\" #@param [\"int\", \"str\", \"float\"] {allow-input: true}\n",
        "marking_system.check_step_2(a_type=a_type, b_type=b_type)\n"
      ]
    },
    {
      "cell_type": "markdown",
      "metadata": {
        "id": "JS1JsY0vdXi-"
      },
      "source": [
        "### 3. Define a variable called `c` and assign it the value of `a / b`\n"
      ]
    },
    {
      "cell_type": "code",
      "execution_count": 7,
      "metadata": {
        "id": "oL2O1zpVdXi-",
        "outputId": "fa5da635-2938-41ab-b102-9a14651289fa",
        "colab": {
          "base_uri": "https://localhost:8080/"
        }
      },
      "outputs": [
        {
          "output_type": "stream",
          "name": "stdout",
          "text": [
            "2.5\n"
          ]
        }
      ],
      "source": [
        "# TODO: Create a variable called 'c' and assign it the value of 'a' divided by 'b'.\n",
        "print(a / b)\n",
        "\n",
        "c = 2.5"
      ]
    },
    {
      "cell_type": "code",
      "execution_count": null,
      "metadata": {
        "id": "9kfU2FTgdXi_"
      },
      "outputs": [],
      "source": [
        "#@title #### Run this cell to check your solution { display-mode: \"form\", run: \"auto\" }\n",
        "\n",
        "assert \"c\" in globals(), \"You haven't defined the variable 'c'.\"\n",
        "marking_system.check_step_3(c=c)\n"
      ]
    },
    {
      "cell_type": "markdown",
      "metadata": {
        "id": "UyvXbU_BdXi_"
      },
      "source": [
        "### 4. What is the type of `c`?"
      ]
    },
    {
      "cell_type": "code",
      "execution_count": 8,
      "metadata": {
        "id": "UqmcajI5dXi_",
        "outputId": "d59cf1ff-73a6-4dea-a727-09a5b9dade2f",
        "colab": {
          "base_uri": "https://localhost:8080/"
        }
      },
      "outputs": [
        {
          "output_type": "stream",
          "name": "stdout",
          "text": [
            "<class 'float'>\n"
          ]
        }
      ],
      "source": [
        "# TODO: Print the type of 'c'.\n",
        "print(type(c))"
      ]
    },
    {
      "cell_type": "code",
      "execution_count": 9,
      "metadata": {
        "id": "z2o3-MTndXi_",
        "outputId": "cf5326d1-614d-4bc5-9712-505b2d2e68bb",
        "colab": {
          "base_uri": "https://localhost:8080/"
        }
      },
      "outputs": [
        {
          "output_type": "stream",
          "name": "stdout",
          "text": [
            "\u001b[92m✔ Well done! Your answer is correct.\n"
          ]
        }
      ],
      "source": [
        "#@title #### Enter your solution here { display-mode: \"form\", run: \"auto\" }\n",
        "\n",
        "#@markdown What is the type of the 'c'?\n",
        "c_type = \"float\" #@param [\"int\", \"str\", \"float\"] {allow-input: true}\n",
        "marking_system.check_step_4(c_type=c_type)\n"
      ]
    },
    {
      "cell_type": "markdown",
      "metadata": {
        "id": "PzeZYOV5dXi_"
      },
      "source": [
        "### 5. Define a variable called `d` and assign it the value of `a // b`\n"
      ]
    },
    {
      "cell_type": "code",
      "execution_count": 12,
      "metadata": {
        "id": "25T61yPndXi_",
        "outputId": "c11a602f-0140-454a-b90b-7ca2b9492bae",
        "colab": {
          "base_uri": "https://localhost:8080/"
        }
      },
      "outputs": [
        {
          "output_type": "stream",
          "name": "stdout",
          "text": [
            "2\n"
          ]
        }
      ],
      "source": [
        "# TODO: Create a variable called 'd' and assign it the value of 'a' divided by 'b' using integer division.\n",
        "print(a // b)\n",
        "\n",
        "d = 2"
      ]
    },
    {
      "cell_type": "code",
      "execution_count": 13,
      "metadata": {
        "id": "GhVXeWgKdXjA",
        "outputId": "e7b16bfe-cc6e-4de1-d132-63990231da27",
        "colab": {
          "base_uri": "https://localhost:8080/"
        }
      },
      "outputs": [
        {
          "output_type": "stream",
          "name": "stdout",
          "text": [
            "\u001b[92m✔ Well done! You have successfully assigned the value of the floor division of 'a' by 'b' to the variable 'd'.By default, Python returns a float when performing a division operation, but it returns an integer when performing a floor division operation.\n"
          ]
        }
      ],
      "source": [
        "#@title #### Run this cell to check your solution { display-mode: \"form\", run: \"auto\" }\n",
        "\n",
        "assert \"d\" in globals(), \"You haven't defined the variable 'd'.\"\n",
        "marking_system.check_step_5(d=d)\n"
      ]
    },
    {
      "cell_type": "markdown",
      "metadata": {
        "id": "mUqU8OnJdXjA"
      },
      "source": [
        "### 6. What is the type of `d`?\n"
      ]
    },
    {
      "cell_type": "code",
      "execution_count": 14,
      "metadata": {
        "id": "K5me5oy7dXjA",
        "outputId": "1198fd34-bdbc-443d-cdaf-1a92bab45a2a",
        "colab": {
          "base_uri": "https://localhost:8080/"
        }
      },
      "outputs": [
        {
          "output_type": "stream",
          "name": "stdout",
          "text": [
            "<class 'int'>\n"
          ]
        }
      ],
      "source": [
        "# TODO: Print the type of 'd'.\n",
        "print(type(d))"
      ]
    },
    {
      "cell_type": "code",
      "execution_count": 15,
      "metadata": {
        "id": "JcBgr404dXjA",
        "outputId": "f7ee2f80-eec5-4c5f-df47-3b2fcfbe54ba",
        "colab": {
          "base_uri": "https://localhost:8080/"
        }
      },
      "outputs": [
        {
          "output_type": "stream",
          "name": "stdout",
          "text": [
            "\u001b[92m✔ Well done! A floor division operation returns an integer.\n"
          ]
        }
      ],
      "source": [
        "#@title #### Enter your solution here { display-mode: \"form\", run: \"auto\" }\n",
        "\n",
        "#@markdown What is the type of the 'd'?\n",
        "d_type = \"int\" #@param [\"int\", \"str\", \"float\", \"None\"] {allow-input: true}\n",
        "marking_system.check_step_6(d_type=d_type)\n"
      ]
    }
  ],
  "metadata": {
    "kernelspec": {
      "display_name": "content-projects_new",
      "language": "python",
      "name": "python3"
    },
    "language_info": {
      "codemirror_mode": {
        "name": "ipython",
        "version": 3
      },
      "file_extension": ".py",
      "mimetype": "text/x-python",
      "name": "python",
      "nbconvert_exporter": "python",
      "pygments_lexer": "ipython3",
      "version": "3.10.8"
    },
    "vscode": {
      "interpreter": {
        "hash": "4b961f8166aad6ccb4cf65d0f9c742ef9c6c23ffe83ad932438cd83ed96aebaf"
      }
    },
    "colab": {
      "provenance": []
    }
  },
  "nbformat": 4,
  "nbformat_minor": 0
}