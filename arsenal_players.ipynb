{
  "nbformat": 4,
  "nbformat_minor": 0,
  "metadata": {
    "colab": {
      "provenance": [],
      "authorship_tag": "ABX9TyPclqf4kVXjp9oJV+E40f7d",
      "include_colab_link": true
    },
    "kernelspec": {
      "name": "python3",
      "display_name": "Python 3"
    },
    "language_info": {
      "name": "python"
    }
  },
  "cells": [
    {
      "cell_type": "markdown",
      "metadata": {
        "id": "view-in-github",
        "colab_type": "text"
      },
      "source": [
        "<a href=\"https://colab.research.google.com/github/TheOfficialAlexander/TheOfficialAlexander/blob/main/arsenal_players.ipynb\" target=\"_parent\"><img src=\"https://colab.research.google.com/assets/colab-badge.svg\" alt=\"Open In Colab\"/></a>"
      ]
    },
    {
      "cell_type": "code",
      "execution_count": 16,
      "metadata": {
        "colab": {
          "base_uri": "https://localhost:8080/"
        },
        "id": "2JqVs1h0kOwi",
        "outputId": "35264438-7715-4e49-c300-443723be722b"
      },
      "outputs": [
        {
          "output_type": "stream",
          "name": "stdout",
          "text": [
            "Name: Arron Ramsdale\n",
            "Kit Number: 1\n",
            "Place of Birth: Stoke-on-Trent\n",
            "\n",
            "Name: William Saliba\n",
            "Kit Number: 2\n",
            "Place of Birth: Bondy\n",
            "\n",
            "Name: Ben White\n",
            "Kit Number: 4\n",
            "Place of Birth: Poole\n",
            "\n",
            "Name: Martin Odegaard\n",
            "Kit Number: 10\n",
            "Place of Birth: Drammen\n",
            "\n",
            "Name: Bukayo Saka\n",
            "Kit Number: 7\n",
            "Place of Birth: Ealing\n",
            "\n",
            "Name: Declan Rice\n",
            "Kit Number: 41\n",
            "Place of Birth: Kingston upon Thames\n",
            "\n"
          ]
        }
      ],
      "source": [
        "arsenal_players = [\n",
        "    {\n",
        "        'name': 'Arron Ramsdale',\n",
        "        'kit_number': '1',\n",
        "        'town_born_in': 'Stoke-on-Trent',\n",
        "    },\n",
        "     {\n",
        "        'name': 'William Saliba',\n",
        "        'kit_number': '2',\n",
        "        'town_born_in': 'Bondy',\n",
        "    },\n",
        "    {\n",
        "        'name': 'Ben White',\n",
        "        'kit_number': '4',\n",
        "        'town_born_in': 'Poole',\n",
        "    },\n",
        "    {\n",
        "        'name': 'Martin Odegaard',\n",
        "        'kit_number': '10',\n",
        "        'town_born_in': 'Drammen',\n",
        "    },\n",
        "    {\n",
        "        'name': 'Bukayo Saka',\n",
        "        'kit_number': '7',\n",
        "        'town_born_in': 'Ealing',\n",
        "    },\n",
        "    {   'name': 'Declan Rice',\n",
        "        'kit_number': '41',\n",
        "        'town_born_in': 'Kingston upon Thames'\n",
        "    }\n",
        "]\n",
        "\n",
        "for arsenal_player in arsenal_players:\n",
        "    print(f\"Name: {arsenal_player['name']}\")\n",
        "    print(f\"Kit Number: {arsenal_player['kit_number']}\")\n",
        "    print(f\"Place of Birth: {arsenal_player['town_born_in']}\")\n",
        "    print()"
      ]
    },
    {
      "cell_type": "code",
      "source": [
        "best_player = arsenal_players [4]\n",
        "print(best_player)"
      ],
      "metadata": {
        "colab": {
          "base_uri": "https://localhost:8080/"
        },
        "id": "o8ts_G1yrzoz",
        "outputId": "e8467985-b7cf-4643-bddd-e8db5f38b782"
      },
      "execution_count": 23,
      "outputs": [
        {
          "output_type": "stream",
          "name": "stdout",
          "text": [
            "{'name': 'Bukayo Saka', 'kit_number': '7', 'town_born_in': 'Ealing'}\n"
          ]
        }
      ]
    },
    {
      "cell_type": "code",
      "source": [
        "best_player = \"Bukayo Saka\"\n",
        "\n",
        "lastname_of_best_player = best_player [7:]\n",
        "\n",
        "print(\"Name of the Best Player in the Arsenal Team is\", lastname_of_best_player)"
      ],
      "metadata": {
        "colab": {
          "base_uri": "https://localhost:8080/"
        },
        "id": "qV8cSpPTsQ4d",
        "outputId": "590b8b70-0f23-4cdf-f41e-d129de2e9cd5"
      },
      "execution_count": 27,
      "outputs": [
        {
          "output_type": "stream",
          "name": "stdout",
          "text": [
            "Name of the Best Player in the Arsenal Team is Saka\n"
          ]
        }
      ]
    }
  ]
}